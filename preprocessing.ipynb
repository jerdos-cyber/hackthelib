{
 "cells": [
  {
   "cell_type": "code",
   "execution_count": 1,
   "metadata": {},
   "outputs": [],
   "source": [
    "import pandas as pd\n",
    "import spacy"
   ]
  },
  {
   "cell_type": "code",
   "execution_count": 2,
   "metadata": {},
   "outputs": [],
   "source": [
    "import nltk"
   ]
  },
  {
   "cell_type": "code",
   "execution_count": 3,
   "metadata": {},
   "outputs": [],
   "source": [
    "trump_speeches = pd.read_csv('trump_speeches.csv')\n",
    "clinton_speeches = pd.read_csv('clinton_speeches.csv')"
   ]
  },
  {
   "cell_type": "code",
   "execution_count": 4,
   "metadata": {},
   "outputs": [],
   "source": [
    "trump_list = trump_speeches.values.tolist()"
   ]
  },
  {
   "cell_type": "code",
   "execution_count": 113,
   "metadata": {},
   "outputs": [],
   "source": [
    "def lower_texts(whatever_list):\n",
    "    for i in range(len(whatever_list)):\n",
    "        whatever_list[i][1] = whatever_list[i][1].lower()\n"
   ]
  },
  {
   "cell_type": "code",
   "execution_count": 22,
   "metadata": {},
   "outputs": [],
   "source": [
    "import re"
   ]
  },
  {
   "cell_type": "code",
   "execution_count": 131,
   "metadata": {},
   "outputs": [],
   "source": [
    "def remove_Punctuation(text):\n",
    "    ntext = text.replace(\",\", \"\").replace(\"[\", \"\").replace(\"]\", \"\").replace(\".\", \"\").replace(\"*\", \"\").replace(\")\", \"\").replace(\"(\", \"\").replace(\":\", \"\").replace(\";\", \"\").replace(\"\\\"\", \"\").replace(\"\\n\", \"\").replace(\"?\", \"\").replace(\"'s\", \"\").replace(\"'\", \"\").replace(\"$\", \"\").replace(\"%\", \"\").replace(\"-\", \"\").strip()\n",
    "    return ntext"
   ]
  },
  {
   "cell_type": "code",
   "execution_count": 57,
   "metadata": {},
   "outputs": [
    {
     "name": "stdout",
     "output_type": "stream",
     "text": [
      "asdnnn  asd asdm asd\\ asdv trump\n"
     ]
    }
   ],
   "source": [
    "#testing remove_Punctutation\n",
    "text = \"***asdnnn () as,d* asd'm's) asd\\... asdv.. trump\\n\"\n",
    "ntext = remove_Punctuation(text)\n",
    "\n",
    "print(ntext)"
   ]
  },
  {
   "cell_type": "code",
   "execution_count": 132,
   "metadata": {
    "scrolled": true
   },
   "outputs": [
    {
     "ename": "TypeError",
     "evalue": "'str' object does not support item assignment",
     "output_type": "error",
     "traceback": [
      "\u001b[0;31m---------------------------------------------------------------------------\u001b[0m",
      "\u001b[0;31mTypeError\u001b[0m                                 Traceback (most recent call last)",
      "\u001b[0;32m<ipython-input-132-ef6355d26222>\u001b[0m in \u001b[0;36m<module>\u001b[0;34m\u001b[0m\n\u001b[1;32m      1\u001b[0m \u001b[0;31m#remove_Punctuation(trump_list)\u001b[0m\u001b[0;34m\u001b[0m\u001b[0;34m\u001b[0m\u001b[0;34m\u001b[0m\u001b[0m\n\u001b[1;32m      2\u001b[0m \u001b[0;32mfor\u001b[0m \u001b[0mi\u001b[0m \u001b[0;32min\u001b[0m \u001b[0mrange\u001b[0m\u001b[0;34m(\u001b[0m\u001b[0mlen\u001b[0m\u001b[0;34m(\u001b[0m\u001b[0mtrump_list\u001b[0m\u001b[0;34m)\u001b[0m\u001b[0;34m)\u001b[0m\u001b[0;34m:\u001b[0m\u001b[0;34m\u001b[0m\u001b[0;34m\u001b[0m\u001b[0m\n\u001b[0;32m----> 3\u001b[0;31m     \u001b[0mtrump_list\u001b[0m\u001b[0;34m[\u001b[0m\u001b[0mi\u001b[0m\u001b[0;34m]\u001b[0m\u001b[0;34m[\u001b[0m\u001b[0;36m1\u001b[0m\u001b[0;34m]\u001b[0m \u001b[0;34m=\u001b[0m \u001b[0mremove_Punctuation\u001b[0m\u001b[0;34m(\u001b[0m\u001b[0mtrump_list\u001b[0m\u001b[0;34m[\u001b[0m\u001b[0mi\u001b[0m\u001b[0;34m]\u001b[0m\u001b[0;34m[\u001b[0m\u001b[0;36m1\u001b[0m\u001b[0;34m]\u001b[0m\u001b[0;34m)\u001b[0m\u001b[0;34m\u001b[0m\u001b[0;34m\u001b[0m\u001b[0m\n\u001b[0m\u001b[1;32m      4\u001b[0m     \u001b[0;32mdel\u001b[0m \u001b[0mtrump_list\u001b[0m\u001b[0;34m[\u001b[0m\u001b[0mi\u001b[0m\u001b[0;34m]\u001b[0m\u001b[0;34m[\u001b[0m\u001b[0;36m0\u001b[0m\u001b[0;34m]\u001b[0m\u001b[0;34m\u001b[0m\u001b[0;34m\u001b[0m\u001b[0m\n",
      "\u001b[0;31mTypeError\u001b[0m: 'str' object does not support item assignment"
     ]
    }
   ],
   "source": [
    "#remove_Punctuation(trump_list)\n",
    "for i in range(len(trump_list)):\n",
    "    trump_list[i][1] = remove_Punctuation(trump_list[i][1])\n",
    "    del trump_list[i][0]"
   ]
  },
  {
   "cell_type": "code",
   "execution_count": 72,
   "metadata": {},
   "outputs": [],
   "source": [
    "newdf = pd.DataFrame(trump_list)"
   ]
  },
  {
   "cell_type": "code",
   "execution_count": 73,
   "metadata": {
    "scrolled": false
   },
   "outputs": [
    {
     "data": {
      "text/html": [
       "<div>\n",
       "<style scoped>\n",
       "    .dataframe tbody tr th:only-of-type {\n",
       "        vertical-align: middle;\n",
       "    }\n",
       "\n",
       "    .dataframe tbody tr th {\n",
       "        vertical-align: top;\n",
       "    }\n",
       "\n",
       "    .dataframe thead th {\n",
       "        text-align: right;\n",
       "    }\n",
       "</style>\n",
       "<table border=\"1\" class=\"dataframe\">\n",
       "  <thead>\n",
       "    <tr style=\"text-align: right;\">\n",
       "      <th></th>\n",
       "      <th>0</th>\n",
       "    </tr>\n",
       "  </thead>\n",
       "  <tbody>\n",
       "    <tr>\n",
       "      <th>0</th>\n",
       "      <td>thank you lester our jobs are fleeing the coun...</td>\n",
       "    </tr>\n",
       "    <tr>\n",
       "      <th>1</th>\n",
       "      <td>well i actually agree with that i agree with e...</td>\n",
       "    </tr>\n",
       "    <tr>\n",
       "      <th>2</th>\n",
       "      <td>well first of all it great to be with you and ...</td>\n",
       "    </tr>\n",
       "    <tr>\n",
       "      <th>3</th>\n",
       "      <td>thank you for the opportunity to speak to you ...</td>\n",
       "    </tr>\n",
       "    <tr>\n",
       "      <th>4</th>\n",
       "      <td>good evening thank you very much i speak to yo...</td>\n",
       "    </tr>\n",
       "  </tbody>\n",
       "</table>\n",
       "</div>"
      ],
      "text/plain": [
       "                                                   0\n",
       "0  thank you lester our jobs are fleeing the coun...\n",
       "1  well i actually agree with that i agree with e...\n",
       "2  well first of all it great to be with you and ...\n",
       "3  thank you for the opportunity to speak to you ...\n",
       "4  good evening thank you very much i speak to yo..."
      ]
     },
     "execution_count": 73,
     "metadata": {},
     "output_type": "execute_result"
    }
   ],
   "source": [
    "newdf.head()"
   ]
  },
  {
   "cell_type": "code",
   "execution_count": 75,
   "metadata": {},
   "outputs": [],
   "source": [
    "#newdf.to_csv('normalized_trump_speeches.csv')"
   ]
  },
  {
   "cell_type": "code",
   "execution_count": 85,
   "metadata": {
    "scrolled": false
   },
   "outputs": [],
   "source": [
    "x = pd.read_csv('normalized_trump_speeches.csv')\n",
    "\n",
    "del x['Unnamed: 0']\n",
    "\n",
    "x.head()"
   ]
  },
  {
   "cell_type": "code",
   "execution_count": 91,
   "metadata": {},
   "outputs": [],
   "source": [
    "del clinton_speeches['Unnamed: 0']"
   ]
  },
  {
   "cell_type": "code",
   "execution_count": 95,
   "metadata": {
    "scrolled": false
   },
   "outputs": [
    {
     "data": {
      "text/html": [
       "<div>\n",
       "<style scoped>\n",
       "    .dataframe tbody tr th:only-of-type {\n",
       "        vertical-align: middle;\n",
       "    }\n",
       "\n",
       "    .dataframe tbody tr th {\n",
       "        vertical-align: top;\n",
       "    }\n",
       "\n",
       "    .dataframe thead th {\n",
       "        text-align: right;\n",
       "    }\n",
       "</style>\n",
       "<table border=\"1\" class=\"dataframe\">\n",
       "  <thead>\n",
       "    <tr style=\"text-align: right;\">\n",
       "      <th></th>\n",
       "      <th>speeches</th>\n",
       "    </tr>\n",
       "  </thead>\n",
       "  <tbody>\n",
       "    <tr>\n",
       "      <th>count</th>\n",
       "      <td>43</td>\n",
       "    </tr>\n",
       "    <tr>\n",
       "      <th>unique</th>\n",
       "      <td>43</td>\n",
       "    </tr>\n",
       "    <tr>\n",
       "      <th>top</th>\n",
       "      <td>This is the day the Lord has made. Let us rejo...</td>\n",
       "    </tr>\n",
       "    <tr>\n",
       "      <th>freq</th>\n",
       "      <td>1</td>\n",
       "    </tr>\n",
       "  </tbody>\n",
       "</table>\n",
       "</div>"
      ],
      "text/plain": [
       "                                                 speeches\n",
       "count                                                  43\n",
       "unique                                                 43\n",
       "top     This is the day the Lord has made. Let us rejo...\n",
       "freq                                                    1"
      ]
     },
     "execution_count": 95,
     "metadata": {},
     "output_type": "execute_result"
    }
   ],
   "source": [
    "clinton_speeches.describe()"
   ]
  },
  {
   "cell_type": "code",
   "execution_count": 101,
   "metadata": {},
   "outputs": [],
   "source": [
    "clinton_list = clinton_speeches.values.tolist()"
   ]
  },
  {
   "cell_type": "code",
   "execution_count": 107,
   "metadata": {},
   "outputs": [
    {
     "data": {
      "text/plain": [
       "['How are you, Donald? Well, thank you, Lester, and thanks to Hofstra for hosting us. The central question in this election is really what kind of country we want to be and what kind of future we\\'ll build together. Today is my granddaughter\\'s second birthday, so I think about this a lot. First, we have to build an economy that works for everyone, not just those at the top. That means we need new jobs, good jobs, with rising incomes. I want us to invest in you. I want us to invest in your future. That means jobs in infrastructure, in advanced manufacturing, innovation and technology, clean, renewable energy, and small business, because most of the new jobs will come from small business. We also have to make the economy fairer. That starts with raising the national minimum wage and also guarantee, finally, equal pay for women\\'s work. I also want to see more companies do profit-sharing. If you help create the profits, you should be able to share in them, not just the executives at the top. And I want us to do more to support people who are struggling to balance family and work. I\\'ve heard from so many of you about the difficult choices you face and the stresses that you\\'re under. So let\\'s have paid family leave, earned sick days. Let\\'s be sure we have affordable child care and debt-free college. How are we going to do it? We\\'re going to do it by having the wealthy pay their fair share and close the corporate loopholes. Finally, we tonight are on the stage together, Donald Trump and I. Donald, it\\'s good to be with you. We\\'re going to have a debate where we are talking about the important issues facing our country. You have to judge us, who can shoulder the immense, awesome responsibilities of the presidency, who can put into action the plans that will make your life better. I hope that I will be able to earn your vote on November 8th. Well, I think that trade is an important issue. Of course, we are 5 percent of the world\\'s population; we have to trade with the other 95 percent. And we need to have smart, fair trade deals. We also, though, need to have a tax system that rewards work and not just financial transactions. And the kind of plan that Donald has put forth would be trickle-down economics all over again. In fact, it would be the most extreme version, the biggest tax cuts for the top percent of the people in this country than we\\'ve ever had. I call it trumped-up trickle-down, because that\\'s exactly what it would be. That is not how we grow the economy. We just have a different view about what\\'s best for growing the economy, how we make investments that will actually produce jobs and rising incomes. I think we come at it from somewhat different perspectives. I understand that. You know, Donald was very fortunate in his life, and that\\'s all to his benefit. He started his business with $14 million, borrowed from his father, and he really believes that the more you help wealthy people, the better off we\\'ll be and that everything will work out from there. I don\\'t buy that. I have a different experience. My father was a small-businessman. He worked really hard. He printed drapery fabrics on long tables, where he pulled out those fabrics and he went down with a silkscreen and dumped the paint in and took the squeegee and kept going. And so what I believe is the more we can do for the middle class, the more we can invest in you, your education, your skills, your future, the better we will be off and the better we\\'ll grow. That\\'s the kind of economy I want us to see again. Well, let\\'s stop for a second and remember where we were eight years ago. We had the worst financial crisis, the Great Recession, the worst since the 1930s. That was in large part because of tax policies that slashed taxes on the wealthy, failed to invest in the middle class, took their eyes off of Wall Street, and created a perfect storm. In fact, Donald was one of the people who rooted for the housing crisis. He said, back in 2006, \"Gee, I hope it does collapse, because then I can go in and buy some and make some money.\" Well, it did collapse. Nine million people -- nine million people lost their jobs. Five million people lost their homes. And $13 trillion in family wealth was wiped out. Now, we have come back from that abyss. And it has not been easy. So we\\'re now on the precipice of having a potentially much better economy, but the last thing we need to do is to go back to the policies that failed us in the first place. Independent experts have looked at what I\\'ve proposed and looked at what Donald\\'s proposed, and basically they\\'ve said this, that if his tax plan, which would blow up the debt by over $5 trillion and would in some instances disadvantage middle-class families compared to the wealthy, were to go into effect, we would lose 3.5 million jobs and maybe have another recession. They\\'ve looked at my plans and they\\'ve said, OK, if we can do this, and I intend to get it done, we will have 10 million more new jobs, because we will be making investments where we can grow the economy. Take clean energy. Some country is going to be the clean- energy superpower of the 21st century. Donald thinks that climate change is a hoax perpetrated by the Chinese. I think it\\'s real. I think science is real. And I think it\\'s important that we grip this and deal with it, both at home and abroad. And here\\'s what we can do. We can deploy a half a billion more solar panels. We can have enough clean energy to power every home. We can build a new modern electric grid. That\\'s a lot of jobs; that\\'s a lot of new economic activity. So I\\'ve tried to be very specific about what we can and should do, and I am determined that we\\'re going to get the economy really moving again, building on the progress we\\'ve made over the last eight years, but never going back to what got us in trouble in the first place. Well, actually... Well, actually, I have thought about this quite a bit. And I have -- well, not quite that long. I think my husband did a pretty good job in the 1990s. I think a lot about what worked and how we can make it work again... ... million new jobs, a balanced budget... Incomes went up for everybody. Manufacturing jobs went up also in the 1990s, if we\\'re actually going to look at the facts. When I was in the Senate, I had a number of trade deals that came before me, and I held them all to the same test. Will they create jobs in America? Will they raise incomes in America? And are they good for our national security? Some of them I voted for. The biggest one, a multinational one known as CAFTA, I voted against. And because I hold the same standards as I look at all of these trade deals. But let\\'s not assume that trade is the only challenge we have in the economy. I think it is a part of it, and I\\'ve said what I\\'m going to do. I\\'m going to have a special prosecutor. We\\'re going to enforce the trade deals we have, and we\\'re going to hold people accountable. When I was secretary of state, we actually increased American exports globally 30 percent. We increased them to China 50 percent. So I know how to really work to get new jobs and to get exports that helped to create more new jobs. Well, I\\'ve been a senator, Donald... And I have been a secretary of state... And I have done a lot... Well, that\\'s your opinion. That is your opinion. Well, that is just not accurate. I was against it once it was finally negotiated and the terms were laid out. I wrote about that in... No. Well, Donald, I know you live in your own reality, but that is not the facts. The facts are -- I did say I hoped it would be a good deal, but when it was negotiated... ... which I was not responsible for, I concluded it wasn\\'t. I wrote about that in my book... ... before you even announced. Look, there are differences... There are... There are different views about what\\'s good for our country, our economy, and our leadership in the world. And I think it\\'s important to look at what we need to do to get the economy going again. That\\'s why I said new jobs with rising incomes, investments, not in more tax cuts that would add $5 trillion to the debt. But in -- oh, but I do. In fact, I have written a book about it. It\\'s called Stronger Together. You can pick it up tomorrow at a bookstore... ... or at an airport near you. But it\\'s because I see this -- we need to have strong growth, fair growth, sustained growth. We also have to look at how we help families balance the responsibilities at home and the responsibilities at business. So we have a very robust set of plans. And people have looked at both of our plans, have concluded that mine would create 10 million jobs and yours would lose us 3.5 million jobs, and explode the debt which would have a recession. That can\\'t -- that can\\'t be left to stand. I kind of assumed that there would be a lot of these charges and claims, and so... So we have taken the home page of my website, HillaryClinton.com, and we\\'ve turned it into a fact-checker. So if you want to see in real-time what the facts are, please go and take a look. Because what I have proposed... ... would not add a penny to the debt, and your plans would add $5 trillion to the debt. What I have proposed would cut regulations and streamline them for small businesses. What I have proposed would be paid for by raising taxes on the wealthy, because they have made all the gains in the economy. And I think it\\'s time that the wealthy and corporations paid their fair share to support this country. Well, at least I have a plan to fight ISIS. No, we\\'re not. No, we\\'re not. That\\'s a -- that\\'s -- go to the -- please, fact checkers, get to work. I have a feeling that by, the end of this evening, I\\'m going to be blamed for everything that\\'s ever happened. Why not? Yeah, why not? You know, just join the debate by saying more crazy things. Now, let me say this, it is absolutely the case... Yeah, well, let\\'s start the clock again, Lester. We\\'ve looked at your tax proposals. I don\\'t see changes in the corporate tax rates or the kinds of proposals you\\'re referring to that would cause the repatriation, bringing back of money that\\'s stranded overseas. I happen to support that. I happen to -- I happen to support that in a way that will actually work to our benefit. But when I look at what you have proposed, you have what is called now the Trump loophole, because it would so advantage you and the business you do. You\\'ve proposed an approach that has a... ... $4 billion tax benefit for your family. And when you look at what you are proposing... ... it is... ... as I said, trumped-up trickle-down. Trickle-down did not work. It got us into the mess we were in, in 2008 and 2009. Slashing taxes on the wealthy hasn\\'t worked. And a lot of really smart, wealthy people know that. And they are saying, hey, we need to do more to make the contributions we should be making to rebuild the middle class. I don\\'t think top-down works in America. I think building the middle class, investing in the middle class, making college debt-free so more young people can get their education, helping people refinance their -- their debt from college at a lower rate. Those are the kinds of things that will really boost the economy. Broad-based, inclusive growth is what we need in America, not more advantages for people at the very top. Well, I think you\\'ve seen another example of bait-and- switch here. For 40 years, everyone running for president has released their tax returns. You can go and see nearly, I think, 39, 40 years of our tax returns, but everyone has done it. We know the IRS has made clear there is no prohibition on releasing it when you\\'re under audit. So you\\'ve got to ask yourself, why won\\'t he release his tax returns? And I think there may be a couple of reasons. First, maybe he\\'s not as rich as he says he is. Second, maybe he\\'s not as charitable as he claims to be. Third, we don\\'t know all of his business dealings, but we have been told through investigative reporting that he owes about $650 million to Wall Street and foreign banks. Or maybe he doesn\\'t want the American people, all of you watching tonight, to know that he\\'s paid nothing in federal taxes, because the only years that anybody\\'s ever seen were a couple of years when he had to turn them over to state authorities when he was trying to get a casino license, and they showed he didn\\'t pay any federal income tax. So if he\\'s paid zero, that means zero for troops, zero for vets, zero for schools or health. And I think probably he\\'s not all that enthusiastic about having the rest of our country see what the real reasons are, because it must be something really important, even terrible, that he\\'s trying to hide. And the financial disclosure statements, they don\\'t give you the tax rate. They don\\'t give you all the details that tax returns would. And it just seems to me that this is something that the American people deserve to see. And I have no reason to believe that he\\'s ever going to release his tax returns, because there\\'s something he\\'s hiding. And we\\'ll guess. We\\'ll keep guessing at what it might be that he\\'s hiding. But I think the question is, were he ever to get near the White House, what would be those conflicts? Who does he owe money to? Well, he owes you the answers to that, and he should provide them. I do. You know, I made a mistake using a private e- mail. TRUMP: And if I had to do it over again, I would, obviously, do it differently. But I\\'m not going to make any excuses. It was a mistake, and I take responsibility for that. And maybe because you haven\\'t paid any federal income tax for a lot of years. And the other thing I think is important ... is if your -- if your main claim to be president of the United States is your business, then I think we should talk about that. You know, your campaign manager said that you built a lot of businesses on the backs of little guys. And, indeed, I have met a lot of the people who were stiffed by you and your businesses, Donald. I\\'ve met dishwashers, painters, architects, glass installers, marble installers, drapery installers, like my dad was, who you refused to pay when they finished the work that you asked them to do. We have an architect in the audience who designed one of your clubhouses at one of your golf courses. It\\'s a beautiful facility. It immediately was put to use. And you wouldn\\'t pay what the man needed to be paid, what he was charging you to do... Well, to... Do the thousands of people that you have stiffed over the course of your business not deserve some kind of apology from someone who has taken their labor, taken the goods that they produced, and then refused to pay them? I can only say that I\\'m certainly relieved that my late father never did business with you. He provided a good middle-class life for us, but the people he worked for, he expected the bargain to be kept on both sides. And when we talk about your business, you\\'ve taken business bankruptcy six times. There are a lot of great businesspeople that have never taken bankruptcy once. You call yourself the King of Debt. You talk about leverage. You even at one time suggested that you would try to negotiate down the national debt of the United States. Well, sometimes there\\'s not a direct transfer of skills from business to government, but sometimes what happened in business would be really bad for government. And we need to be very clear about that. Well, you\\'re right. Race remains a significant challenge in our country. Unfortunately, race still determines too much, often determines where people live, determines what kind of education in their public schools they can get, and, yes, it determines how they\\'re treated in the criminal justice system. We\\'ve just seen those two tragic examples in both Tulsa and Charlotte. And we\\'ve got to do several things at the same time. We have to restore trust between communities and the police. We have to work to make sure that our police are using the best training, the best techniques, that they\\'re well prepared to use force only when necessary. Everyone should be respected by the law, and everyone should respect the law. Right now, that\\'s not the case in a lot of our neighborhoods. So I have, ever since the first day of my campaign, called for criminal justice reform. I\\'ve laid out a platform that I think would begin to remedy some of the problems we have in the criminal justice system. But we also have to recognize, in addition to the challenges that we face with policing, there are so many good, brave police officers who equally want reform. So we have to bring communities together in order to begin working on that as a mutual goal. And we\\'ve got to get guns out of the hands of people who should not have them. The gun epidemic is the leading cause of death of young African- American men, more than the next nine causes put together. So we have to do two things, as I said. We have to restore trust. We have to work with the police. We have to make sure they respect the communities and the communities respect them. And we have to tackle the plague of gun violence, which is a big contributor to a lot of the problems that we\\'re seeing today. Well, I\\'ve heard -- I\\'ve heard Donald say this at his rallies, and it\\'s really unfortunate that he paints such a dire negative picture of black communities in our country. You know, the vibrancy of the black church, the black businesses that employ so many people, the opportunities that so many families are working to provide for their kids. There\\'s a lot that we should be proud of and we should be supporting and lifting up. But we do always have to make sure we keep people safe. There are the right ways of doing it, and then there are ways that are ineffective. Stop-and-frisk was found to be unconstitutional and, in part, because it was ineffective. It did not do what it needed to do. Now, I believe in community policing. And, in fact, violent crime is one-half of what it was in 1991. Property crime is down 40 percent. We just don\\'t want to see it creep back up. We\\'ve had 25 years of very good cooperation. But there were some problems, some unintended consequences. Too many young African-American and Latino men ended up in jail for nonviolent offenses. And it\\'s just a fact that if you\\'re a young African-American man and you do the same thing as a young white man, you are more likely to be arrested, charged, convicted, and incarcerated. So we\\'ve got to address the systemic racism in our criminal justice system. We cannot just say law and order. We have to say -- we have to come forward with a plan that is going to divert people from the criminal justice system, deal with mandatory minimum sentences, which have put too many people away for too long for doing too little. We need to have more second chance programs. I\\'m glad that we\\'re ending private prisons in the federal system; I want to see them ended in the state system. You shouldn\\'t have a profit motivation to fill prison cells with young Americans. So there are some positive ways we can work on this. And I believe strongly that commonsense gun safety measures would assist us. Right now -- and this is something Donald has supported, along with the gun lobby -- right now, we\\'ve got too many military- style weapons on the streets. In a lot of places, our police are outgunned. We need comprehensive background checks, and we need to keep guns out of the hands of those who will do harm. And we finally need to pass a prohibition on anyone who\\'s on the terrorist watch list from being able to buy a gun in our country. If you\\'re too dangerous to fly, you are too dangerous to buy a gun. So there are things we can do, and we ought to do it in a bipartisan way. Lester, I think implicit bias is a problem for everyone, not just police. I think, unfortunately, too many of us in our great country jump to conclusions about each other. And therefore, I think we need all of us to be asking hard questions about, you know, why am I feeling this way? But when it comes to policing, since it can have literally fatal consequences, I have said, in my first budget, we would put money into that budget to help us deal with implicit bias by retraining a lot of our police officers. I\\'ve met with a group of very distinguished, experienced police chiefs a few weeks ago. They admit it\\'s an issue. They\\'ve got a lot of concerns. Mental health is one of the biggest concerns, because now police are having to handle a lot of really difficult mental health problems on the street. They want support, they want more training, they want more assistance. And I think the federal government could be in a position where we would offer and provide that. Well, it\\'s also fair to say, if we\\'re going to talk about mayors, that under the current mayor, crime has continued to drop, including murders. So there is... No, I\\'m not. New York -- New York has done an excellent job. And I give credit -- I give credit across the board going back two mayors, two police chiefs, because it has worked. And other communities need to come together to do what will work, as well. Look, one murder is too many. But it is important that we learn about what has been effective. And not go to things that sound good that really did not have the kind of impact that we would want. Who disagrees with keeping neighborhoods safe? But let\\'s also add, no one should disagree about respecting the rights of young men who live in those neighborhoods. And so we need to do a better job of working, again, with the communities, faith communities, business communities, as well as the police to try to deal with this problem. Well, I -- I do think... I think -- I think -- I think Donald just criticized me for preparing for this debate. And, yes, I did. And you know what else I prepared for? I prepared to be president. And I think that\\'s a good thing. Well, just listen to what you heard. And clearly, as Donald just admitted, he knew he was going to stand on this debate stage, and Lester Holt was going to be asking us questions, so he tried to put the whole racist birther lie to bed. But it can\\'t be dismissed that easily. He has really started his political activity based on this racist lie that our first black president was not an American citizen. There was absolutely no evidence for it, but he persisted, he persisted year after year, because some of his supporters, people that he was trying to bring into his fold, apparently believed it or wanted to believe it. But, remember, Donald started his career back in 1973 being sued by the Justice Department for racial discrimination because he would not rent apartments in one of his developments to African-Americans, and he made sure that the people who worked for him understood that was the policy. He actually was sued twice by the Justice Department. So he has a long record of engaging in racist behavior. And the birther lie was a very hurtful one. You know, Barack Obama is a man of great dignity. And I could tell how much it bothered him and annoyed him that this was being touted and used against him. But I like to remember what Michelle Obama said in her amazing speech at our Democratic National Convention: When they go low, we go high. And Barack Obama went high, despite Donald Trump\\'s best efforts to bring him down. Well, I think cyber security, cyber warfare will be one of the biggest challenges facing the next president, because clearly we\\'re facing at this point two different kinds of adversaries. There are the independent hacking groups that do it mostly for commercial reasons to try to steal information that they can use to make money. But increasingly, we are seeing cyber attacks coming from states, organs of states. The most recent and troubling of these has been Russia. There\\'s no doubt now that Russia has used cyber attacks against all kinds of organizations in our country, and I am deeply concerned about this. I know Donald\\'s very praiseworthy of Vladimir Putin, but Putin is playing a really... ... tough, long game here. And one of the things he\\'s done is to let loose cyber attackers to hack into government files, to hack into personal files, hack into the Democratic National Committee. And we recently have learned that, you know, that this is one of their preferred methods of trying to wreak havoc and collect information. We need to make it very clear -- whether it\\'s Russia, China, Iran or anybody else -- the United States has much greater capacity. And we are not going to sit idly by and permit state actors to go after our information, our private-sector information or our public-sector information. And we\\'re going to have to make it clear that we don\\'t want to use the kinds of tools that we have. We don\\'t want to engage in a different kind of warfare. But we will defend the citizens of this country. And the Russians need to understand that. I think they\\'ve been treating it as almost a probing, how far would we go, how much would we do. And that\\'s why I was so -- I was so shocked when Donald publicly invited Putin to hack into Americans. That is just unacceptable. It\\'s one of the reasons why 50 national security officials who served in Republican information -- in administrations... ... have said that Donald is unfit to be the commander- in-chief. It\\'s comments like that that really worry people who understand the threats that we face. Well, I think there are a number of issues that we should be addressing. I have put forth a plan to defeat ISIS. It does involve going after them online. I think we need to do much more with our tech companies to prevent ISIS and their operatives from being able to use the Internet to radicalize, even direct people in our country and Europe and elsewhere. But we also have to intensify our air strikes against ISIS and eventually support our Arab and Kurdish partners to be able to actually take out ISIS in Raqqa, end their claim of being a Caliphate. We\\'re making progress. Our military is assisting in Iraq. And we\\'re hoping that within the year we\\'ll be able to push ISIS out of Iraq and then, you know, really squeeze them in Syria. But we have to be cognizant of the fact that they\\'ve had foreign fighters coming to volunteer for them, foreign money, foreign weapons, so we have to make this the top priority. And I would also do everything possible to take out their leadership. I was involved in a number of efforts to take out Al Qaida leadership when I was secretary of state, including, of course, taking out bin Laden. And I think we need to go after Baghdadi, as well, make that one of our organizing principles. Because we\\'ve got to defeat ISIS, and we\\'ve got to do everything we can to disrupt their propaganda efforts online. Well, I hope the fact-checkers are turning up the volume and really working hard. Donald supported the invasion of Iraq. That is absolutely proved over and over again. He actually advocated for the actions we took in Libya and urged that Gadhafi be taken out, after actually doing some business with him one time. But the larger point -- and he says this constantly -- is George W. Bush made the agreement about when American troops would leave Iraq, not Barack Obama. And the only way that American troops could have stayed in Iraq is to get an agreement from the then-Iraqi government that would have protected our troops, and the Iraqi government would not give that. But let\\'s talk about the question you asked, Lester. The question you asked is, what do we do here in the United States? That\\'s the most important part of this. How do we prevent attacks? How do we protect our people? And I think we\\'ve got to have an intelligence surge, where we are looking for every scrap of information. I was so proud of law enforcement in New York, in Minnesota, in New Jersey. You know, they responded so quickly, so professionally to the attacks that occurred by Rahami. And they brought him down. And we may find out more information because he is still alive, which may prove to be an intelligence benefit. So we\\'ve got to do everything we can to vacuum up intelligence from Europe, from the Middle East. That means we\\'ve got to work more closely with our allies, and that\\'s something that Donald has been very dismissive of. We\\'re working with NATO, the longest military alliance in the history of the world, to really turn our attention to terrorism. We\\'re working with our friends in the Middle East, many of which, as you know, are Muslim majority nations. Donald has consistently insulted Muslims abroad, Muslims at home, when we need to be cooperating with Muslim nations and with the American Muslim community. They\\'re on the front lines. They can provide information to us that we might not get anywhere else. They need to have close working cooperation with law enforcement in these communities, not be alienated and pushed away as some of Donald\\'s rhetoric, unfortunately, has led to. Lester, we\\'ve covered... We\\'ve covered this ground. Whew, OK. Let\\'s talk about two important issues that were briefly mentioned by Donald, first, NATO. You know, NATO as a military alliance has something called Article 5, and basically it says this: An attack on one is an attack on all. And you know the only time it\\'s ever been invoked? After 9/11, when the 28 nations of NATO said that they would go to Afghanistan with us to fight terrorism, something that they still are doing by our side. With respect to Iran, when I became secretary of state, Iran was weeks away from having enough nuclear material to form a bomb. They had mastered the nuclear fuel cycle under the Bush administration. They had built covert facilities. They had stocked them with centrifuges that were whirling away. And we had sanctioned them. I voted for every sanction against Iran when I was in the Senate, but it wasn\\'t enough. So I spent a year-and-a-half putting together a coalition that included Russia and China to impose the toughest sanctions on Iran. And we did drive them to the negotiating table. And my successor, John Kerry, and President Obama got a deal that put a lid on Iran\\'s nuclear program without firing a single shot. That\\'s diplomacy. That\\'s coalition-building. That\\'s working with other nations. The other day, I saw Donald saying that there were some Iranian sailors on a ship in the waters off of Iran, and they were taunting American sailors who were on a nearby ship. He said, you know, if they taunted our sailors, I\\'d blow them out of the water and start another war. That\\'s not good judgment. That is not the right temperament to be commander-in- chief, to be taunted. And the worst part... ... of what we heard Donald say has been about nuclear weapons. He has said repeatedly that he didn\\'t care if other nations got nuclear weapons, Japan, South Korea, even Saudi Arabia. It has been the policy of the United States, Democrats and Republicans, to do everything we could to reduce the proliferation of nuclear weapons. He even said, well, you know, if there were nuclear war in East Asia, well, you know, that\\'s fine... ... have a good time, folks. And, in fact, his cavalier attitude about nuclear weapons is so deeply troubling. That is the number-one threat we face in the world. And it becomes particularly threatening if terrorists ever get their hands on any nuclear material. So a man who can be provoked by a tweet should not have his fingers anywhere near the nuclear codes, as far as I think anyone with any sense about this should be concerned. It\\'s a good one, though. It well describes the problem. Well, let me -- let me start by saying, words matter. Words matter when you run for president. And they really matter when you are president. And I want to reassure our allies in Japan and South Korea and elsewhere that we have mutual defense treaties and we will honor them. It is essential that America\\'s word be good. And so I know that this campaign has caused some questioning and worries on the part of many leaders across the globe. I\\'ve talked with a number of them. But I want to -- on behalf of myself, and I think on behalf of a majority of the American people, say that, you know, our word is good. It\\'s also important that we look at the entire global situation. There\\'s no doubt that we have other problems with Iran. But personally, I\\'d rather deal with the other problems having put that lid on their nuclear program than still to be facing that. And Donald never tells you what he would do. Would he have started a war? Would he have bombed Iran? If he\\'s going to criticize a deal that has been very successful in giving us access to Iranian facilities that we never had before, then he should tell us what his alternative would be. But it\\'s like his plan to defeat ISIS. He says it\\'s a secret plan, but the only secret is that he has no plan. So we need to be more precise in how we talk about these issues. People around the word follow our presidential campaigns so closely, trying to get hints about what we will do. Can they rely on us? Are we going to lead the world with strength and in accordance with our values? That\\'s what I intend to do. I intend to be a leader of our country that people can count on, both here at home and around the world, to make decisions that will further peace and prosperity, but also stand up to bullies, whether they\\'re abroad or at home. We cannot let those who would try to destabilize the world to interfere with American interests and security... ... to be given any opportunities at all. Well, as soon as he travels to 112 countries and negotiates a peace deal, a cease-fire, a release of dissidents, an opening of new opportunities in nations around the world, or even spends 11 hours testifying in front of a congressional committee, he can talk to me about stamina. Well, one thing. One thing, Lester. You know, he tried to switch from looks to stamina. But this is a man who has called women pigs, slobs and dogs, and someone who has said pregnancy is an inconvenience to employers, who has said... .... women don\\'t deserve equal pay unless they do as good a job as men. And one of the worst things he said was about a woman in a beauty contest. He loves beauty contests, supporting them and hanging around them. And he called this woman \"Miss Piggy.\" Then he called her \"Miss Housekeeping,\" because she was Latina. Donald, she has a name. Her name is Alicia Machado. And she has become a U.S. citizen, and you can bet... Well, I support our democracy. And sometimes you win, sometimes you lose. But I certainly will support the outcome of this election. And I know Donald\\'s trying very hard to plant doubts about it, but I hope the people out there understand: This election\\'s really up to you. It\\'s not about us so much as it is about you and your families and the kind of country and future you want. So I sure hope you will get out and vote as though your future depended on it, because I think it does.']"
      ]
     },
     "execution_count": 107,
     "metadata": {},
     "output_type": "execute_result"
    }
   ],
   "source": [
    "clinton_list[0]"
   ]
  },
  {
   "cell_type": "code",
   "execution_count": 120,
   "metadata": {},
   "outputs": [],
   "source": [
    "def lowercase_texts(whatever_list):\n",
    "    for i in range(len(whatever_list)):\n",
    "        whatever_list[i] = whatever_list[i].lower()"
   ]
  },
  {
   "cell_type": "code",
   "execution_count": 121,
   "metadata": {
    "scrolled": true
   },
   "outputs": [],
   "source": [
    "lowercase_texts(clinton_list)"
   ]
  },
  {
   "cell_type": "code",
   "execution_count": 122,
   "metadata": {},
   "outputs": [
    {
     "data": {
      "text/plain": [
       "'[\\'how are you, donald? well, thank you, lester, and thanks to hofstra for hosting us. the central question in this election is really what kind of country we want to be and what kind of future we\\\\\\'ll build together. today is my granddaughter\\\\\\'s second birthday, so i think about this a lot. first, we have to build an economy that works for everyone, not just those at the top. that means we need new jobs, good jobs, with rising incomes. i want us to invest in you. i want us to invest in your future. that means jobs in infrastructure, in advanced manufacturing, innovation and technology, clean, renewable energy, and small business, because most of the new jobs will come from small business. we also have to make the economy fairer. that starts with raising the national minimum wage and also guarantee, finally, equal pay for women\\\\\\'s work. i also want to see more companies do profit-sharing. if you help create the profits, you should be able to share in them, not just the executives at the top. and i want us to do more to support people who are struggling to balance family and work. i\\\\\\'ve heard from so many of you about the difficult choices you face and the stresses that you\\\\\\'re under. so let\\\\\\'s have paid family leave, earned sick days. let\\\\\\'s be sure we have affordable child care and debt-free college. how are we going to do it? we\\\\\\'re going to do it by having the wealthy pay their fair share and close the corporate loopholes. finally, we tonight are on the stage together, donald trump and i. donald, it\\\\\\'s good to be with you. we\\\\\\'re going to have a debate where we are talking about the important issues facing our country. you have to judge us, who can shoulder the immense, awesome responsibilities of the presidency, who can put into action the plans that will make your life better. i hope that i will be able to earn your vote on november 8th. well, i think that trade is an important issue. of course, we are 5 percent of the world\\\\\\'s population; we have to trade with the other 95 percent. and we need to have smart, fair trade deals. we also, though, need to have a tax system that rewards work and not just financial transactions. and the kind of plan that donald has put forth would be trickle-down economics all over again. in fact, it would be the most extreme version, the biggest tax cuts for the top percent of the people in this country than we\\\\\\'ve ever had. i call it trumped-up trickle-down, because that\\\\\\'s exactly what it would be. that is not how we grow the economy. we just have a different view about what\\\\\\'s best for growing the economy, how we make investments that will actually produce jobs and rising incomes. i think we come at it from somewhat different perspectives. i understand that. you know, donald was very fortunate in his life, and that\\\\\\'s all to his benefit. he started his business with $14 million, borrowed from his father, and he really believes that the more you help wealthy people, the better off we\\\\\\'ll be and that everything will work out from there. i don\\\\\\'t buy that. i have a different experience. my father was a small-businessman. he worked really hard. he printed drapery fabrics on long tables, where he pulled out those fabrics and he went down with a silkscreen and dumped the paint in and took the squeegee and kept going. and so what i believe is the more we can do for the middle class, the more we can invest in you, your education, your skills, your future, the better we will be off and the better we\\\\\\'ll grow. that\\\\\\'s the kind of economy i want us to see again. well, let\\\\\\'s stop for a second and remember where we were eight years ago. we had the worst financial crisis, the great recession, the worst since the 1930s. that was in large part because of tax policies that slashed taxes on the wealthy, failed to invest in the middle class, took their eyes off of wall street, and created a perfect storm. in fact, donald was one of the people who rooted for the housing crisis. he said, back in 2006, \"gee, i hope it does collapse, because then i can go in and buy some and make some money.\" well, it did collapse. nine million people -- nine million people lost their jobs. five million people lost their homes. and $13 trillion in family wealth was wiped out. now, we have come back from that abyss. and it has not been easy. so we\\\\\\'re now on the precipice of having a potentially much better economy, but the last thing we need to do is to go back to the policies that failed us in the first place. independent experts have looked at what i\\\\\\'ve proposed and looked at what donald\\\\\\'s proposed, and basically they\\\\\\'ve said this, that if his tax plan, which would blow up the debt by over $5 trillion and would in some instances disadvantage middle-class families compared to the wealthy, were to go into effect, we would lose 3.5 million jobs and maybe have another recession. they\\\\\\'ve looked at my plans and they\\\\\\'ve said, ok, if we can do this, and i intend to get it done, we will have 10 million more new jobs, because we will be making investments where we can grow the economy. take clean energy. some country is going to be the clean- energy superpower of the 21st century. donald thinks that climate change is a hoax perpetrated by the chinese. i think it\\\\\\'s real. i think science is real. and i think it\\\\\\'s important that we grip this and deal with it, both at home and abroad. and here\\\\\\'s what we can do. we can deploy a half a billion more solar panels. we can have enough clean energy to power every home. we can build a new modern electric grid. that\\\\\\'s a lot of jobs; that\\\\\\'s a lot of new economic activity. so i\\\\\\'ve tried to be very specific about what we can and should do, and i am determined that we\\\\\\'re going to get the economy really moving again, building on the progress we\\\\\\'ve made over the last eight years, but never going back to what got us in trouble in the first place. well, actually... well, actually, i have thought about this quite a bit. and i have -- well, not quite that long. i think my husband did a pretty good job in the 1990s. i think a lot about what worked and how we can make it work again... ... million new jobs, a balanced budget... incomes went up for everybody. manufacturing jobs went up also in the 1990s, if we\\\\\\'re actually going to look at the facts. when i was in the senate, i had a number of trade deals that came before me, and i held them all to the same test. will they create jobs in america? will they raise incomes in america? and are they good for our national security? some of them i voted for. the biggest one, a multinational one known as cafta, i voted against. and because i hold the same standards as i look at all of these trade deals. but let\\\\\\'s not assume that trade is the only challenge we have in the economy. i think it is a part of it, and i\\\\\\'ve said what i\\\\\\'m going to do. i\\\\\\'m going to have a special prosecutor. we\\\\\\'re going to enforce the trade deals we have, and we\\\\\\'re going to hold people accountable. when i was secretary of state, we actually increased american exports globally 30 percent. we increased them to china 50 percent. so i know how to really work to get new jobs and to get exports that helped to create more new jobs. well, i\\\\\\'ve been a senator, donald... and i have been a secretary of state... and i have done a lot... well, that\\\\\\'s your opinion. that is your opinion. well, that is just not accurate. i was against it once it was finally negotiated and the terms were laid out. i wrote about that in... no. well, donald, i know you live in your own reality, but that is not the facts. the facts are -- i did say i hoped it would be a good deal, but when it was negotiated... ... which i was not responsible for, i concluded it wasn\\\\\\'t. i wrote about that in my book... ... before you even announced. look, there are differences... there are... there are different views about what\\\\\\'s good for our country, our economy, and our leadership in the world. and i think it\\\\\\'s important to look at what we need to do to get the economy going again. that\\\\\\'s why i said new jobs with rising incomes, investments, not in more tax cuts that would add $5 trillion to the debt. but in -- oh, but i do. in fact, i have written a book about it. it\\\\\\'s called stronger together. you can pick it up tomorrow at a bookstore... ... or at an airport near you. but it\\\\\\'s because i see this -- we need to have strong growth, fair growth, sustained growth. we also have to look at how we help families balance the responsibilities at home and the responsibilities at business. so we have a very robust set of plans. and people have looked at both of our plans, have concluded that mine would create 10 million jobs and yours would lose us 3.5 million jobs, and explode the debt which would have a recession. that can\\\\\\'t -- that can\\\\\\'t be left to stand. i kind of assumed that there would be a lot of these charges and claims, and so... so we have taken the home page of my website, hillaryclinton.com, and we\\\\\\'ve turned it into a fact-checker. so if you want to see in real-time what the facts are, please go and take a look. because what i have proposed... ... would not add a penny to the debt, and your plans would add $5 trillion to the debt. what i have proposed would cut regulations and streamline them for small businesses. what i have proposed would be paid for by raising taxes on the wealthy, because they have made all the gains in the economy. and i think it\\\\\\'s time that the wealthy and corporations paid their fair share to support this country. well, at least i have a plan to fight isis. no, we\\\\\\'re not. no, we\\\\\\'re not. that\\\\\\'s a -- that\\\\\\'s -- go to the -- please, fact checkers, get to work. i have a feeling that by, the end of this evening, i\\\\\\'m going to be blamed for everything that\\\\\\'s ever happened. why not? yeah, why not? you know, just join the debate by saying more crazy things. now, let me say this, it is absolutely the case... yeah, well, let\\\\\\'s start the clock again, lester. we\\\\\\'ve looked at your tax proposals. i don\\\\\\'t see changes in the corporate tax rates or the kinds of proposals you\\\\\\'re referring to that would cause the repatriation, bringing back of money that\\\\\\'s stranded overseas. i happen to support that. i happen to -- i happen to support that in a way that will actually work to our benefit. but when i look at what you have proposed, you have what is called now the trump loophole, because it would so advantage you and the business you do. you\\\\\\'ve proposed an approach that has a... ... $4 billion tax benefit for your family. and when you look at what you are proposing... ... it is... ... as i said, trumped-up trickle-down. trickle-down did not work. it got us into the mess we were in, in 2008 and 2009. slashing taxes on the wealthy hasn\\\\\\'t worked. and a lot of really smart, wealthy people know that. and they are saying, hey, we need to do more to make the contributions we should be making to rebuild the middle class. i don\\\\\\'t think top-down works in america. i think building the middle class, investing in the middle class, making college debt-free so more young people can get their education, helping people refinance their -- their debt from college at a lower rate. those are the kinds of things that will really boost the economy. broad-based, inclusive growth is what we need in america, not more advantages for people at the very top. well, i think you\\\\\\'ve seen another example of bait-and- switch here. for 40 years, everyone running for president has released their tax returns. you can go and see nearly, i think, 39, 40 years of our tax returns, but everyone has done it. we know the irs has made clear there is no prohibition on releasing it when you\\\\\\'re under audit. so you\\\\\\'ve got to ask yourself, why won\\\\\\'t he release his tax returns? and i think there may be a couple of reasons. first, maybe he\\\\\\'s not as rich as he says he is. second, maybe he\\\\\\'s not as charitable as he claims to be. third, we don\\\\\\'t know all of his business dealings, but we have been told through investigative reporting that he owes about $650 million to wall street and foreign banks. or maybe he doesn\\\\\\'t want the american people, all of you watching tonight, to know that he\\\\\\'s paid nothing in federal taxes, because the only years that anybody\\\\\\'s ever seen were a couple of years when he had to turn them over to state authorities when he was trying to get a casino license, and they showed he didn\\\\\\'t pay any federal income tax. so if he\\\\\\'s paid zero, that means zero for troops, zero for vets, zero for schools or health. and i think probably he\\\\\\'s not all that enthusiastic about having the rest of our country see what the real reasons are, because it must be something really important, even terrible, that he\\\\\\'s trying to hide. and the financial disclosure statements, they don\\\\\\'t give you the tax rate. they don\\\\\\'t give you all the details that tax returns would. and it just seems to me that this is something that the american people deserve to see. and i have no reason to believe that he\\\\\\'s ever going to release his tax returns, because there\\\\\\'s something he\\\\\\'s hiding. and we\\\\\\'ll guess. we\\\\\\'ll keep guessing at what it might be that he\\\\\\'s hiding. but i think the question is, were he ever to get near the white house, what would be those conflicts? who does he owe money to? well, he owes you the answers to that, and he should provide them. i do. you know, i made a mistake using a private e- mail. trump: and if i had to do it over again, i would, obviously, do it differently. but i\\\\\\'m not going to make any excuses. it was a mistake, and i take responsibility for that. and maybe because you haven\\\\\\'t paid any federal income tax for a lot of years. and the other thing i think is important ... is if your -- if your main claim to be president of the united states is your business, then i think we should talk about that. you know, your campaign manager said that you built a lot of businesses on the backs of little guys. and, indeed, i have met a lot of the people who were stiffed by you and your businesses, donald. i\\\\\\'ve met dishwashers, painters, architects, glass installers, marble installers, drapery installers, like my dad was, who you refused to pay when they finished the work that you asked them to do. we have an architect in the audience who designed one of your clubhouses at one of your golf courses. it\\\\\\'s a beautiful facility. it immediately was put to use. and you wouldn\\\\\\'t pay what the man needed to be paid, what he was charging you to do... well, to... do the thousands of people that you have stiffed over the course of your business not deserve some kind of apology from someone who has taken their labor, taken the goods that they produced, and then refused to pay them? i can only say that i\\\\\\'m certainly relieved that my late father never did business with you. he provided a good middle-class life for us, but the people he worked for, he expected the bargain to be kept on both sides. and when we talk about your business, you\\\\\\'ve taken business bankruptcy six times. there are a lot of great businesspeople that have never taken bankruptcy once. you call yourself the king of debt. you talk about leverage. you even at one time suggested that you would try to negotiate down the national debt of the united states. well, sometimes there\\\\\\'s not a direct transfer of skills from business to government, but sometimes what happened in business would be really bad for government. and we need to be very clear about that. well, you\\\\\\'re right. race remains a significant challenge in our country. unfortunately, race still determines too much, often determines where people live, determines what kind of education in their public schools they can get, and, yes, it determines how they\\\\\\'re treated in the criminal justice system. we\\\\\\'ve just seen those two tragic examples in both tulsa and charlotte. and we\\\\\\'ve got to do several things at the same time. we have to restore trust between communities and the police. we have to work to make sure that our police are using the best training, the best techniques, that they\\\\\\'re well prepared to use force only when necessary. everyone should be respected by the law, and everyone should respect the law. right now, that\\\\\\'s not the case in a lot of our neighborhoods. so i have, ever since the first day of my campaign, called for criminal justice reform. i\\\\\\'ve laid out a platform that i think would begin to remedy some of the problems we have in the criminal justice system. but we also have to recognize, in addition to the challenges that we face with policing, there are so many good, brave police officers who equally want reform. so we have to bring communities together in order to begin working on that as a mutual goal. and we\\\\\\'ve got to get guns out of the hands of people who should not have them. the gun epidemic is the leading cause of death of young african- american men, more than the next nine causes put together. so we have to do two things, as i said. we have to restore trust. we have to work with the police. we have to make sure they respect the communities and the communities respect them. and we have to tackle the plague of gun violence, which is a big contributor to a lot of the problems that we\\\\\\'re seeing today. well, i\\\\\\'ve heard -- i\\\\\\'ve heard donald say this at his rallies, and it\\\\\\'s really unfortunate that he paints such a dire negative picture of black communities in our country. you know, the vibrancy of the black church, the black businesses that employ so many people, the opportunities that so many families are working to provide for their kids. there\\\\\\'s a lot that we should be proud of and we should be supporting and lifting up. but we do always have to make sure we keep people safe. there are the right ways of doing it, and then there are ways that are ineffective. stop-and-frisk was found to be unconstitutional and, in part, because it was ineffective. it did not do what it needed to do. now, i believe in community policing. and, in fact, violent crime is one-half of what it was in 1991. property crime is down 40 percent. we just don\\\\\\'t want to see it creep back up. we\\\\\\'ve had 25 years of very good cooperation. but there were some problems, some unintended consequences. too many young african-american and latino men ended up in jail for nonviolent offenses. and it\\\\\\'s just a fact that if you\\\\\\'re a young african-american man and you do the same thing as a young white man, you are more likely to be arrested, charged, convicted, and incarcerated. so we\\\\\\'ve got to address the systemic racism in our criminal justice system. we cannot just say law and order. we have to say -- we have to come forward with a plan that is going to divert people from the criminal justice system, deal with mandatory minimum sentences, which have put too many people away for too long for doing too little. we need to have more second chance programs. i\\\\\\'m glad that we\\\\\\'re ending private prisons in the federal system; i want to see them ended in the state system. you shouldn\\\\\\'t have a profit motivation to fill prison cells with young americans. so there are some positive ways we can work on this. and i believe strongly that commonsense gun safety measures would assist us. right now -- and this is something donald has supported, along with the gun lobby -- right now, we\\\\\\'ve got too many military- style weapons on the streets. in a lot of places, our police are outgunned. we need comprehensive background checks, and we need to keep guns out of the hands of those who will do harm. and we finally need to pass a prohibition on anyone who\\\\\\'s on the terrorist watch list from being able to buy a gun in our country. if you\\\\\\'re too dangerous to fly, you are too dangerous to buy a gun. so there are things we can do, and we ought to do it in a bipartisan way. lester, i think implicit bias is a problem for everyone, not just police. i think, unfortunately, too many of us in our great country jump to conclusions about each other. and therefore, i think we need all of us to be asking hard questions about, you know, why am i feeling this way? but when it comes to policing, since it can have literally fatal consequences, i have said, in my first budget, we would put money into that budget to help us deal with implicit bias by retraining a lot of our police officers. i\\\\\\'ve met with a group of very distinguished, experienced police chiefs a few weeks ago. they admit it\\\\\\'s an issue. they\\\\\\'ve got a lot of concerns. mental health is one of the biggest concerns, because now police are having to handle a lot of really difficult mental health problems on the street. they want support, they want more training, they want more assistance. and i think the federal government could be in a position where we would offer and provide that. well, it\\\\\\'s also fair to say, if we\\\\\\'re going to talk about mayors, that under the current mayor, crime has continued to drop, including murders. so there is... no, i\\\\\\'m not. new york -- new york has done an excellent job. and i give credit -- i give credit across the board going back two mayors, two police chiefs, because it has worked. and other communities need to come together to do what will work, as well. look, one murder is too many. but it is important that we learn about what has been effective. and not go to things that sound good that really did not have the kind of impact that we would want. who disagrees with keeping neighborhoods safe? but let\\\\\\'s also add, no one should disagree about respecting the rights of young men who live in those neighborhoods. and so we need to do a better job of working, again, with the communities, faith communities, business communities, as well as the police to try to deal with this problem. well, i -- i do think... i think -- i think -- i think donald just criticized me for preparing for this debate. and, yes, i did. and you know what else i prepared for? i prepared to be president. and i think that\\\\\\'s a good thing. well, just listen to what you heard. and clearly, as donald just admitted, he knew he was going to stand on this debate stage, and lester holt was going to be asking us questions, so he tried to put the whole racist birther lie to bed. but it can\\\\\\'t be dismissed that easily. he has really started his political activity based on this racist lie that our first black president was not an american citizen. there was absolutely no evidence for it, but he persisted, he persisted year after year, because some of his supporters, people that he was trying to bring into his fold, apparently believed it or wanted to believe it. but, remember, donald started his career back in 1973 being sued by the justice department for racial discrimination because he would not rent apartments in one of his developments to african-americans, and he made sure that the people who worked for him understood that was the policy. he actually was sued twice by the justice department. so he has a long record of engaging in racist behavior. and the birther lie was a very hurtful one. you know, barack obama is a man of great dignity. and i could tell how much it bothered him and annoyed him that this was being touted and used against him. but i like to remember what michelle obama said in her amazing speech at our democratic national convention: when they go low, we go high. and barack obama went high, despite donald trump\\\\\\'s best efforts to bring him down. well, i think cyber security, cyber warfare will be one of the biggest challenges facing the next president, because clearly we\\\\\\'re facing at this point two different kinds of adversaries. there are the independent hacking groups that do it mostly for commercial reasons to try to steal information that they can use to make money. but increasingly, we are seeing cyber attacks coming from states, organs of states. the most recent and troubling of these has been russia. there\\\\\\'s no doubt now that russia has used cyber attacks against all kinds of organizations in our country, and i am deeply concerned about this. i know donald\\\\\\'s very praiseworthy of vladimir putin, but putin is playing a really... ... tough, long game here. and one of the things he\\\\\\'s done is to let loose cyber attackers to hack into government files, to hack into personal files, hack into the democratic national committee. and we recently have learned that, you know, that this is one of their preferred methods of trying to wreak havoc and collect information. we need to make it very clear -- whether it\\\\\\'s russia, china, iran or anybody else -- the united states has much greater capacity. and we are not going to sit idly by and permit state actors to go after our information, our private-sector information or our public-sector information. and we\\\\\\'re going to have to make it clear that we don\\\\\\'t want to use the kinds of tools that we have. we don\\\\\\'t want to engage in a different kind of warfare. but we will defend the citizens of this country. and the russians need to understand that. i think they\\\\\\'ve been treating it as almost a probing, how far would we go, how much would we do. and that\\\\\\'s why i was so -- i was so shocked when donald publicly invited putin to hack into americans. that is just unacceptable. it\\\\\\'s one of the reasons why 50 national security officials who served in republican information -- in administrations... ... have said that donald is unfit to be the commander- in-chief. it\\\\\\'s comments like that that really worry people who understand the threats that we face. well, i think there are a number of issues that we should be addressing. i have put forth a plan to defeat isis. it does involve going after them online. i think we need to do much more with our tech companies to prevent isis and their operatives from being able to use the internet to radicalize, even direct people in our country and europe and elsewhere. but we also have to intensify our air strikes against isis and eventually support our arab and kurdish partners to be able to actually take out isis in raqqa, end their claim of being a caliphate. we\\\\\\'re making progress. our military is assisting in iraq. and we\\\\\\'re hoping that within the year we\\\\\\'ll be able to push isis out of iraq and then, you know, really squeeze them in syria. but we have to be cognizant of the fact that they\\\\\\'ve had foreign fighters coming to volunteer for them, foreign money, foreign weapons, so we have to make this the top priority. and i would also do everything possible to take out their leadership. i was involved in a number of efforts to take out al qaida leadership when i was secretary of state, including, of course, taking out bin laden. and i think we need to go after baghdadi, as well, make that one of our organizing principles. because we\\\\\\'ve got to defeat isis, and we\\\\\\'ve got to do everything we can to disrupt their propaganda efforts online. well, i hope the fact-checkers are turning up the volume and really working hard. donald supported the invasion of iraq. that is absolutely proved over and over again. he actually advocated for the actions we took in libya and urged that gadhafi be taken out, after actually doing some business with him one time. but the larger point -- and he says this constantly -- is george w. bush made the agreement about when american troops would leave iraq, not barack obama. and the only way that american troops could have stayed in iraq is to get an agreement from the then-iraqi government that would have protected our troops, and the iraqi government would not give that. but let\\\\\\'s talk about the question you asked, lester. the question you asked is, what do we do here in the united states? that\\\\\\'s the most important part of this. how do we prevent attacks? how do we protect our people? and i think we\\\\\\'ve got to have an intelligence surge, where we are looking for every scrap of information. i was so proud of law enforcement in new york, in minnesota, in new jersey. you know, they responded so quickly, so professionally to the attacks that occurred by rahami. and they brought him down. and we may find out more information because he is still alive, which may prove to be an intelligence benefit. so we\\\\\\'ve got to do everything we can to vacuum up intelligence from europe, from the middle east. that means we\\\\\\'ve got to work more closely with our allies, and that\\\\\\'s something that donald has been very dismissive of. we\\\\\\'re working with nato, the longest military alliance in the history of the world, to really turn our attention to terrorism. we\\\\\\'re working with our friends in the middle east, many of which, as you know, are muslim majority nations. donald has consistently insulted muslims abroad, muslims at home, when we need to be cooperating with muslim nations and with the american muslim community. they\\\\\\'re on the front lines. they can provide information to us that we might not get anywhere else. they need to have close working cooperation with law enforcement in these communities, not be alienated and pushed away as some of donald\\\\\\'s rhetoric, unfortunately, has led to. lester, we\\\\\\'ve covered... we\\\\\\'ve covered this ground. whew, ok. let\\\\\\'s talk about two important issues that were briefly mentioned by donald, first, nato. you know, nato as a military alliance has something called article 5, and basically it says this: an attack on one is an attack on all. and you know the only time it\\\\\\'s ever been invoked? after 9/11, when the 28 nations of nato said that they would go to afghanistan with us to fight terrorism, something that they still are doing by our side. with respect to iran, when i became secretary of state, iran was weeks away from having enough nuclear material to form a bomb. they had mastered the nuclear fuel cycle under the bush administration. they had built covert facilities. they had stocked them with centrifuges that were whirling away. and we had sanctioned them. i voted for every sanction against iran when i was in the senate, but it wasn\\\\\\'t enough. so i spent a year-and-a-half putting together a coalition that included russia and china to impose the toughest sanctions on iran. and we did drive them to the negotiating table. and my successor, john kerry, and president obama got a deal that put a lid on iran\\\\\\'s nuclear program without firing a single shot. that\\\\\\'s diplomacy. that\\\\\\'s coalition-building. that\\\\\\'s working with other nations. the other day, i saw donald saying that there were some iranian sailors on a ship in the waters off of iran, and they were taunting american sailors who were on a nearby ship. he said, you know, if they taunted our sailors, i\\\\\\'d blow them out of the water and start another war. that\\\\\\'s not good judgment. that is not the right temperament to be commander-in- chief, to be taunted. and the worst part... ... of what we heard donald say has been about nuclear weapons. he has said repeatedly that he didn\\\\\\'t care if other nations got nuclear weapons, japan, south korea, even saudi arabia. it has been the policy of the united states, democrats and republicans, to do everything we could to reduce the proliferation of nuclear weapons. he even said, well, you know, if there were nuclear war in east asia, well, you know, that\\\\\\'s fine... ... have a good time, folks. and, in fact, his cavalier attitude about nuclear weapons is so deeply troubling. that is the number-one threat we face in the world. and it becomes particularly threatening if terrorists ever get their hands on any nuclear material. so a man who can be provoked by a tweet should not have his fingers anywhere near the nuclear codes, as far as i think anyone with any sense about this should be concerned. it\\\\\\'s a good one, though. it well describes the problem. well, let me -- let me start by saying, words matter. words matter when you run for president. and they really matter when you are president. and i want to reassure our allies in japan and south korea and elsewhere that we have mutual defense treaties and we will honor them. it is essential that america\\\\\\'s word be good. and so i know that this campaign has caused some questioning and worries on the part of many leaders across the globe. i\\\\\\'ve talked with a number of them. but i want to -- on behalf of myself, and i think on behalf of a majority of the american people, say that, you know, our word is good. it\\\\\\'s also important that we look at the entire global situation. there\\\\\\'s no doubt that we have other problems with iran. but personally, i\\\\\\'d rather deal with the other problems having put that lid on their nuclear program than still to be facing that. and donald never tells you what he would do. would he have started a war? would he have bombed iran? if he\\\\\\'s going to criticize a deal that has been very successful in giving us access to iranian facilities that we never had before, then he should tell us what his alternative would be. but it\\\\\\'s like his plan to defeat isis. he says it\\\\\\'s a secret plan, but the only secret is that he has no plan. so we need to be more precise in how we talk about these issues. people around the word follow our presidential campaigns so closely, trying to get hints about what we will do. can they rely on us? are we going to lead the world with strength and in accordance with our values? that\\\\\\'s what i intend to do. i intend to be a leader of our country that people can count on, both here at home and around the world, to make decisions that will further peace and prosperity, but also stand up to bullies, whether they\\\\\\'re abroad or at home. we cannot let those who would try to destabilize the world to interfere with american interests and security... ... to be given any opportunities at all. well, as soon as he travels to 112 countries and negotiates a peace deal, a cease-fire, a release of dissidents, an opening of new opportunities in nations around the world, or even spends 11 hours testifying in front of a congressional committee, he can talk to me about stamina. well, one thing. one thing, lester. you know, he tried to switch from looks to stamina. but this is a man who has called women pigs, slobs and dogs, and someone who has said pregnancy is an inconvenience to employers, who has said... .... women don\\\\\\'t deserve equal pay unless they do as good a job as men. and one of the worst things he said was about a woman in a beauty contest. he loves beauty contests, supporting them and hanging around them. and he called this woman \"miss piggy.\" then he called her \"miss housekeeping,\" because she was latina. donald, she has a name. her name is alicia machado. and she has become a u.s. citizen, and you can bet... well, i support our democracy. and sometimes you win, sometimes you lose. but i certainly will support the outcome of this election. and i know donald\\\\\\'s trying very hard to plant doubts about it, but i hope the people out there understand: this election\\\\\\'s really up to you. it\\\\\\'s not about us so much as it is about you and your families and the kind of country and future you want. so i sure hope you will get out and vote as though your future depended on it, because i think it does.\\']'"
      ]
     },
     "execution_count": 122,
     "metadata": {},
     "output_type": "execute_result"
    }
   ],
   "source": [
    "clinton_list[0]"
   ]
  },
  {
   "cell_type": "code",
   "execution_count": 136,
   "metadata": {},
   "outputs": [],
   "source": [
    "#remove_Punctuation(clinton_list)\n",
    "for i in range(len(clinton_list)):\n",
    "    clinton_list[i] = remove_Punctuation(clinton_list[i])\n",
    "    #del trump_list[i][0]"
   ]
  },
  {
   "cell_type": "code",
   "execution_count": 137,
   "metadata": {},
   "outputs": [],
   "source": [
    "new_clinton_df = pd.DataFrame(clinton_list)"
   ]
  },
  {
   "cell_type": "code",
   "execution_count": 138,
   "metadata": {
    "scrolled": true
   },
   "outputs": [
    {
     "data": {
      "text/html": [
       "<div>\n",
       "<style scoped>\n",
       "    .dataframe tbody tr th:only-of-type {\n",
       "        vertical-align: middle;\n",
       "    }\n",
       "\n",
       "    .dataframe tbody tr th {\n",
       "        vertical-align: top;\n",
       "    }\n",
       "\n",
       "    .dataframe thead th {\n",
       "        text-align: right;\n",
       "    }\n",
       "</style>\n",
       "<table border=\"1\" class=\"dataframe\">\n",
       "  <thead>\n",
       "    <tr style=\"text-align: right;\">\n",
       "      <th></th>\n",
       "      <th>0</th>\n",
       "    </tr>\n",
       "  </thead>\n",
       "  <tbody>\n",
       "    <tr>\n",
       "      <th>0</th>\n",
       "      <td>how are you donald well thank you lester and t...</td>\n",
       "    </tr>\n",
       "    <tr>\n",
       "      <th>1</th>\n",
       "      <td>well thank you are you a teacher yes i think t...</td>\n",
       "    </tr>\n",
       "    <tr>\n",
       "      <th>2</th>\n",
       "      <td>thank you very much chris and thanks to unlv f...</td>\n",
       "    </tr>\n",
       "    <tr>\n",
       "      <th>3</th>\n",
       "      <td>wow what a great way to begin and to all of yo...</td>\n",
       "    </tr>\n",
       "    <tr>\n",
       "      <th>4</th>\n",
       "      <td>thank you so much it is wonderful to be here a...</td>\n",
       "    </tr>\n",
       "  </tbody>\n",
       "</table>\n",
       "</div>"
      ],
      "text/plain": [
       "                                                   0\n",
       "0  how are you donald well thank you lester and t...\n",
       "1  well thank you are you a teacher yes i think t...\n",
       "2  thank you very much chris and thanks to unlv f...\n",
       "3  wow what a great way to begin and to all of yo...\n",
       "4  thank you so much it is wonderful to be here a..."
      ]
     },
     "execution_count": 138,
     "metadata": {},
     "output_type": "execute_result"
    }
   ],
   "source": [
    "new_clinton_df.head()"
   ]
  },
  {
   "cell_type": "code",
   "execution_count": 139,
   "metadata": {},
   "outputs": [],
   "source": [
    "new_clinton_df.to_csv('normalized_clinton_speeches.csv')"
   ]
  },
  {
   "cell_type": "code",
   "execution_count": null,
   "metadata": {},
   "outputs": [],
   "source": []
  }
 ],
 "metadata": {
  "kernelspec": {
   "display_name": "Python 3",
   "language": "python",
   "name": "python3"
  },
  "language_info": {
   "codemirror_mode": {
    "name": "ipython",
    "version": 3
   },
   "file_extension": ".py",
   "mimetype": "text/x-python",
   "name": "python",
   "nbconvert_exporter": "python",
   "pygments_lexer": "ipython3",
   "version": "3.8.3"
  }
 },
 "nbformat": 4,
 "nbformat_minor": 2
}
