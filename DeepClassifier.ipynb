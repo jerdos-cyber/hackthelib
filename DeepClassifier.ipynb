{
 "cells": [
  {
   "cell_type": "code",
   "execution_count": 20,
   "metadata": {},
   "outputs": [],
   "source": [
    "import tensorflow as tf\n",
    "from tensorflow import keras\n",
    "\n",
    "from tensorflow.keras.preprocessing.text import Tokenizer\n",
    "from tensorflow.keras.preprocessing.sequence import pad_sequences\n",
    "\n",
    "\n",
    "\n",
    "import os\n",
    "\n",
    "import pandas as pd\n",
    "import numpy as np\n",
    "\n",
    "from tqdm import tqdm\n",
    "\n",
    "\n",
    "import sentencepiece\n",
    "\n",
    "import seaborn as sns\n",
    "from pylab import *\n",
    "import matplotlib.pyplot as plt\n",
    "from matplotlib.ticker import MaxNLocator\n",
    "from matplotlib import rc\n",
    "\n",
    "from sklearn.metrics import confusion_matrix, classification_report\n",
    "%matplotlib inline\n",
    "%config InlineBackend.figure_format='retina'\n",
    "\n",
    "sns.set(style='whitegrid', palette='muted', font_scale=1.2)\n",
    "\n",
    "HAPPY_COLORS_PALETTE = [\"#01BEFE\", \"#FFDD00\", \"#FF7D00\", \"#FF006D\", \"#ADFF02\", \"#8F00FF\"]\n",
    "\n",
    "sns.set_palette(sns.color_palette(HAPPY_COLORS_PALETTE))\n",
    "\n",
    "#rcParams['figure.figsize'] = 12, 8\n",
    "\n",
    "RANDOM_SEED = 42\n",
    "\n",
    "np.random.seed(RANDOM_SEED)\n",
    "tf.random.set_seed(RANDOM_SEED)"
   ]
  },
  {
   "cell_type": "markdown",
   "metadata": {},
   "source": [
    "Make the Training Data randomly ordered \n",
    "AND split it into a training and testing set"
   ]
  },
  {
   "cell_type": "code",
   "execution_count": 21,
   "metadata": {},
   "outputs": [],
   "source": [
    "pre_dataset = pd.read_csv('combined_speeches.csv')"
   ]
  },
  {
   "cell_type": "code",
   "execution_count": 22,
   "metadata": {},
   "outputs": [],
   "source": [
    "del pre_dataset['Unnamed: 0']"
   ]
  },
  {
   "cell_type": "code",
   "execution_count": 23,
   "metadata": {},
   "outputs": [
    {
     "data": {
      "text/html": [
       "<div>\n",
       "<style scoped>\n",
       "    .dataframe tbody tr th:only-of-type {\n",
       "        vertical-align: middle;\n",
       "    }\n",
       "\n",
       "    .dataframe tbody tr th {\n",
       "        vertical-align: top;\n",
       "    }\n",
       "\n",
       "    .dataframe thead th {\n",
       "        text-align: right;\n",
       "    }\n",
       "</style>\n",
       "<table border=\"1\" class=\"dataframe\">\n",
       "  <thead>\n",
       "    <tr style=\"text-align: right;\">\n",
       "      <th></th>\n",
       "      <th>0</th>\n",
       "      <th>Ideology</th>\n",
       "    </tr>\n",
       "  </thead>\n",
       "  <tbody>\n",
       "    <tr>\n",
       "      <th>0</th>\n",
       "      <td>how are you donald well thank you lester and t...</td>\n",
       "      <td>1</td>\n",
       "    </tr>\n",
       "    <tr>\n",
       "      <th>1</th>\n",
       "      <td>well thank you are you a teacher yes i think t...</td>\n",
       "      <td>1</td>\n",
       "    </tr>\n",
       "    <tr>\n",
       "      <th>2</th>\n",
       "      <td>thank you very much chris and thanks to unlv f...</td>\n",
       "      <td>1</td>\n",
       "    </tr>\n",
       "    <tr>\n",
       "      <th>3</th>\n",
       "      <td>wow what a great way to begin and to all of yo...</td>\n",
       "      <td>1</td>\n",
       "    </tr>\n",
       "    <tr>\n",
       "      <th>4</th>\n",
       "      <td>thank you so much it is wonderful to be here a...</td>\n",
       "      <td>1</td>\n",
       "    </tr>\n",
       "  </tbody>\n",
       "</table>\n",
       "</div>"
      ],
      "text/plain": [
       "                                                   0  Ideology\n",
       "0  how are you donald well thank you lester and t...         1\n",
       "1  well thank you are you a teacher yes i think t...         1\n",
       "2  thank you very much chris and thanks to unlv f...         1\n",
       "3  wow what a great way to begin and to all of yo...         1\n",
       "4  thank you so much it is wonderful to be here a...         1"
      ]
     },
     "execution_count": 23,
     "metadata": {},
     "output_type": "execute_result"
    }
   ],
   "source": [
    "pre_dataset.head()"
   ]
  },
  {
   "cell_type": "code",
   "execution_count": 24,
   "metadata": {},
   "outputs": [],
   "source": [
    "pre_dataset = pre_dataset.drop(pre_dataset.index[86:])"
   ]
  },
  {
   "cell_type": "code",
   "execution_count": 25,
   "metadata": {},
   "outputs": [
    {
     "name": "stdout",
     "output_type": "stream",
     "text": [
      "0           86\n",
      "Ideology    86\n",
      "dtype: int64\n"
     ]
    }
   ],
   "source": [
    "print(pre_dataset.count())"
   ]
  },
  {
   "cell_type": "code",
   "execution_count": 26,
   "metadata": {},
   "outputs": [
    {
     "data": {
      "image/png": "[encoded data removed]",
      "text/plain": [
       "<Figure size 432x288 with 1 Axes>"
      ]
     },
     "metadata": {
      "image/png": {
       "height": 289,
       "width": 393
      }
     },
     "output_type": "display_data"
    }
   ],
   "source": [
    "rand_dataset = pre_dataset.sample(n=86)\n",
    "\n",
    "rand_dataset.head(20)\n",
    "\n",
    "chart = sns.countplot(rand_dataset.Ideology, palette=HAPPY_COLORS_PALETTE)\n",
    "plt.title(\"Number of texts per Ideology\")\n",
    "chart.set_xticklabels(chart.get_xticklabels(), rotation=0, horizontalalignment='right');"
   ]
  },
  {
   "cell_type": "code",
   "execution_count": 27,
   "metadata": {},
   "outputs": [],
   "source": [
    "speeches = []\n",
    "ideology = []\n",
    "for thing in rand_dataset.values:\n",
    "    speeches.append(thing[0])\n",
    "    ideology.append(thing[1])"
   ]
  },
  {
   "cell_type": "code",
   "execution_count": 28,
   "metadata": {},
   "outputs": [],
   "source": [
    "vocab_size = 10000\n",
    "embedding_dim = 32\n",
    "max_length = 9120\n",
    "trunc_type='post'\n",
    "padding_type='post'\n",
    "oov_tok = \"<OOV>\"\n",
    "training_size = 70"
   ]
  },
  {
   "cell_type": "code",
   "execution_count": 29,
   "metadata": {},
   "outputs": [],
   "source": [
    "training_speeches = speeches[0:training_size]\n",
    "testing_speeches = speeches[training_size:]\n",
    "training_ideologies = ideology[0:training_size]\n",
    "testing_ideologies = ideology[training_size:]"
   ]
  },
  {
   "cell_type": "code",
   "execution_count": 30,
   "metadata": {},
   "outputs": [],
   "source": [
    "tokenizer = Tokenizer(num_words=vocab_size, oov_token=oov_tok)\n",
    "tokenizer.fit_on_texts(training_speeches)\n",
    "\n",
    "word_index = tokenizer.word_index\n",
    "\n",
    "training_sequences = tokenizer.texts_to_sequences(training_speeches)\n",
    "training_padded = pad_sequences(training_sequences, maxlen=max_length, padding=padding_type, truncating=trunc_type)\n",
    "\n",
    "testing_sequences = tokenizer.texts_to_sequences(testing_speeches)\n",
    "testing_padded = pad_sequences(testing_sequences, maxlen=max_length, padding=padding_type, truncating=trunc_type)"
   ]
  },
  {
   "cell_type": "code",
   "execution_count": 31,
   "metadata": {},
   "outputs": [],
   "source": [
    "import numpy as np\n",
    "training_padded = np.array(training_padded)\n",
    "training_ideologies = np.array(training_ideologies)\n",
    "testing_padded = np.array(testing_padded)\n",
    "testing_ideologies = np.array(testing_ideologies)"
   ]
  },
  {
   "cell_type": "code",
   "execution_count": 33,
   "metadata": {},
   "outputs": [],
   "source": [
    "model = tf.keras.Sequential([\n",
    "    tf.keras.layers.Embedding(vocab_size, embedding_dim, input_length=max_length),\n",
    "    #tf.keras.layers.LSTM(1),\n",
    "    tf.keras.layers.GlobalAveragePooling1D(),\n",
    "    tf.keras.layers.Dense(24, activation='relu'),\n",
    "    tf.keras.layers.Dense(1, activation='sigmoid')\n",
    "])\n",
    "model.compile(loss='binary_crossentropy',optimizer='adam',metrics=['accuracy'])"
   ]
  },
  {
   "cell_type": "code",
   "execution_count": 34,
   "metadata": {},
   "outputs": [
    {
     "name": "stdout",
     "output_type": "stream",
     "text": [
      "Model: \"sequential_2\"\n",
      "_________________________________________________________________\n",
      "Layer (type)                 Output Shape              Param #   \n",
      "=================================================================\n",
      "embedding_2 (Embedding)      (None, 9120, 32)          320000    \n",
      "_________________________________________________________________\n",
      "global_average_pooling1d (Gl (None, 32)                0         \n",
      "_________________________________________________________________\n",
      "dense_4 (Dense)              (None, 24)                792       \n",
      "_________________________________________________________________\n",
      "dense_5 (Dense)              (None, 1)                 25        \n",
      "=================================================================\n",
      "Total params: 320,817\n",
      "Trainable params: 320,817\n",
      "Non-trainable params: 0\n",
      "_________________________________________________________________\n"
     ]
    }
   ],
   "source": [
    "model.summary()"
   ]
  },
  {
   "cell_type": "code",
   "execution_count": 36,
   "metadata": {},
   "outputs": [
    {
     "name": "stdout",
     "output_type": "stream",
     "text": [
      "Epoch 1/28\n",
      "3/3 - 0s - loss: 0.6923 - accuracy: 0.4857 - val_loss: 0.6917 - val_accuracy: 0.6875\n",
      "Epoch 2/28\n",
      "3/3 - 0s - loss: 0.6919 - accuracy: 0.5429 - val_loss: 0.6913 - val_accuracy: 0.6250\n",
      "Epoch 3/28\n",
      "3/3 - 0s - loss: 0.6914 - accuracy: 0.5857 - val_loss: 0.6910 - val_accuracy: 0.6875\n",
      "Epoch 4/28\n",
      "3/3 - 0s - loss: 0.6911 - accuracy: 0.6143 - val_loss: 0.6905 - val_accuracy: 0.5625\n",
      "Epoch 5/28\n",
      "3/3 - 0s - loss: 0.6906 - accuracy: 0.6286 - val_loss: 0.6903 - val_accuracy: 0.6875\n",
      "Epoch 6/28\n",
      "3/3 - 0s - loss: 0.6902 - accuracy: 0.7286 - val_loss: 0.6899 - val_accuracy: 0.7500\n",
      "Epoch 7/28\n",
      "3/3 - 0s - loss: 0.6897 - accuracy: 0.7286 - val_loss: 0.6895 - val_accuracy: 0.7500\n",
      "Epoch 8/28\n",
      "3/3 - 0s - loss: 0.6892 - accuracy: 0.7286 - val_loss: 0.6890 - val_accuracy: 0.8125\n",
      "Epoch 9/28\n",
      "3/3 - 0s - loss: 0.6887 - accuracy: 0.7429 - val_loss: 0.6884 - val_accuracy: 0.8125\n",
      "Epoch 10/28\n",
      "3/3 - 0s - loss: 0.6881 - accuracy: 0.7429 - val_loss: 0.6881 - val_accuracy: 0.7500\n",
      "Epoch 11/28\n",
      "3/3 - 0s - loss: 0.6875 - accuracy: 0.7857 - val_loss: 0.6878 - val_accuracy: 0.6875\n",
      "Epoch 12/28\n",
      "3/3 - 0s - loss: 0.6872 - accuracy: 0.7857 - val_loss: 0.6876 - val_accuracy: 0.7500\n",
      "Epoch 13/28\n",
      "3/3 - 0s - loss: 0.6868 - accuracy: 0.8143 - val_loss: 0.6872 - val_accuracy: 0.7500\n",
      "Epoch 14/28\n",
      "3/3 - 0s - loss: 0.6863 - accuracy: 0.8000 - val_loss: 0.6864 - val_accuracy: 0.7500\n",
      "Epoch 15/28\n",
      "3/3 - 0s - loss: 0.6854 - accuracy: 0.8143 - val_loss: 0.6856 - val_accuracy: 0.7500\n",
      "Epoch 16/28\n",
      "3/3 - 0s - loss: 0.6846 - accuracy: 0.8000 - val_loss: 0.6845 - val_accuracy: 0.6875\n",
      "Epoch 17/28\n",
      "3/3 - 0s - loss: 0.6834 - accuracy: 0.8143 - val_loss: 0.6833 - val_accuracy: 0.7500\n",
      "Epoch 18/28\n",
      "3/3 - 0s - loss: 0.6822 - accuracy: 0.7857 - val_loss: 0.6821 - val_accuracy: 0.7500\n",
      "Epoch 19/28\n",
      "3/3 - 0s - loss: 0.6812 - accuracy: 0.7857 - val_loss: 0.6809 - val_accuracy: 0.7500\n",
      "Epoch 20/28\n",
      "3/3 - 0s - loss: 0.6800 - accuracy: 0.7571 - val_loss: 0.6799 - val_accuracy: 0.7500\n",
      "Epoch 21/28\n",
      "3/3 - 0s - loss: 0.6787 - accuracy: 0.7714 - val_loss: 0.6791 - val_accuracy: 0.7500\n",
      "Epoch 22/28\n",
      "3/3 - 0s - loss: 0.6775 - accuracy: 0.7857 - val_loss: 0.6780 - val_accuracy: 0.7500\n",
      "Epoch 23/28\n",
      "3/3 - 0s - loss: 0.6761 - accuracy: 0.7857 - val_loss: 0.6766 - val_accuracy: 0.7500\n",
      "Epoch 24/28\n",
      "3/3 - 0s - loss: 0.6745 - accuracy: 0.8000 - val_loss: 0.6751 - val_accuracy: 0.7500\n",
      "Epoch 25/28\n",
      "3/3 - 0s - loss: 0.6728 - accuracy: 0.7571 - val_loss: 0.6733 - val_accuracy: 0.8125\n",
      "Epoch 26/28\n",
      "3/3 - 0s - loss: 0.6710 - accuracy: 0.7571 - val_loss: 0.6713 - val_accuracy: 0.7500\n",
      "Epoch 27/28\n",
      "3/3 - 0s - loss: 0.6689 - accuracy: 0.7571 - val_loss: 0.6692 - val_accuracy: 0.7500\n",
      "Epoch 28/28\n",
      "3/3 - 0s - loss: 0.6666 - accuracy: 0.7571 - val_loss: 0.6672 - val_accuracy: 0.7500\n"
     ]
    }
   ],
   "source": [
    "num_epochs =28\n",
    "history = model.fit(training_padded, training_ideologies, epochs=num_epochs, validation_data=(testing_padded, testing_ideologies), verbose=2)"
   ]
  },
  {
   "cell_type": "code",
   "execution_count": 37,
   "metadata": {},
   "outputs": [
    {
     "data": {
      "image/png": "[encoded data removed]",
      "text/plain": [
       "<Figure size 432x288 with 1 Axes>"
      ]
     },
     "metadata": {
      "image/png": {
       "height": 272,
       "width": 406
      }
     },
     "output_type": "display_data"
    },
    {
     "data": {
      "image/png": "[encoded data removed]",
      "text/plain": [
       "<Figure size 432x288 with 1 Axes>"
      ]
     },
     "metadata": {
      "image/png": {
       "height": 272,
       "width": 414
      }
     },
     "output_type": "display_data"
    }
   ],
   "source": [
    "import matplotlib.pyplot as plt\n",
    "\n",
    "\n",
    "def plot_graphs(history, string):\n",
    "  plt.plot(history.history[string])\n",
    "  plt.plot(history.history['val_'+string])\n",
    "  plt.xlabel(\"Epochs\")\n",
    "  plt.ylabel(string)\n",
    "  plt.legend([string, 'val_'+string])\n",
    "  plt.show()\n",
    "  \n",
    "plot_graphs(history, \"accuracy\")\n",
    "plot_graphs(history, \"loss\")"
   ]
  },
  {
   "cell_type": "code",
   "execution_count": 38,
   "metadata": {},
   "outputs": [
    {
     "name": "stdout",
     "output_type": "stream",
     "text": [
      "(10000, 32)\n"
     ]
    }
   ],
   "source": [
    "e = model.layers[0]\n",
    "weights = e.get_weights()[0]\n",
    "print(weights.shape)"
   ]
  },
  {
   "cell_type": "code",
   "execution_count": 42,
   "metadata": {},
   "outputs": [
    {
     "name": "stdout",
     "output_type": "stream",
     "text": [
      "0\n",
      "[[0.46674457]]\n",
      "\n",
      "\n",
      "1\n",
      "[[0.52235556]]\n",
      "\n",
      "\n",
      "0\n",
      "[[0.46737805]]\n",
      "\n",
      "\n",
      "1\n",
      "[[0.4890468]]\n",
      "\n",
      "\n",
      "1\n",
      "[[0.5153033]]\n",
      "\n",
      "\n",
      "0\n",
      "[[0.47180894]]\n",
      "\n",
      "\n",
      "1\n",
      "[[0.50166976]]\n",
      "\n",
      "\n",
      "1\n",
      "[[0.49034956]]\n",
      "\n",
      "\n",
      "1\n",
      "[[0.49778813]]\n",
      "\n",
      "\n",
      "0\n",
      "[[0.47333908]]\n",
      "\n",
      "\n",
      "0\n",
      "[[0.46786433]]\n",
      "\n",
      "\n",
      "0\n",
      "[[0.46954525]]\n",
      "\n",
      "\n",
      "0\n",
      "[[0.46614182]]\n",
      "\n",
      "\n",
      "0\n",
      "[[0.46076554]]\n",
      "\n",
      "\n",
      "0\n",
      "[[0.46753195]]\n",
      "\n",
      "\n",
      "0\n",
      "[[0.4761136]]\n",
      "\n",
      "\n",
      "1\n",
      "[[0.523831]]\n",
      "\n",
      "\n",
      "0\n",
      "[[0.46526924]]\n",
      "\n",
      "\n",
      "0\n",
      "[[0.465584]]\n",
      "\n",
      "\n",
      "0\n",
      "[[0.49178466]]\n",
      "\n",
      "\n",
      "1\n",
      "[[0.5086514]]\n",
      "\n",
      "\n",
      "1\n",
      "[[0.51066184]]\n",
      "\n",
      "\n",
      "1\n",
      "[[0.50956196]]\n",
      "\n",
      "\n",
      "1\n",
      "[[0.49425682]]\n",
      "\n",
      "\n",
      "1\n",
      "[[0.47956464]]\n",
      "\n",
      "\n",
      "0\n",
      "[[0.4655992]]\n",
      "\n",
      "\n",
      "1\n",
      "[[0.5256023]]\n",
      "\n",
      "\n",
      "1\n",
      "[[0.5235768]]\n",
      "\n",
      "\n",
      "1\n",
      "[[0.5113399]]\n",
      "\n",
      "\n",
      "1\n",
      "[[0.5230159]]\n",
      "\n",
      "\n",
      "0\n",
      "[[0.5090483]]\n",
      "\n",
      "\n",
      "0\n",
      "[[0.5077477]]\n",
      "\n",
      "\n",
      "1\n",
      "[[0.47758213]]\n",
      "\n",
      "\n",
      "1\n",
      "[[0.52385277]]\n",
      "\n",
      "\n",
      "1\n",
      "[[0.52210534]]\n",
      "\n",
      "\n",
      "1\n",
      "[[0.514751]]\n",
      "\n",
      "\n",
      "0\n",
      "[[0.4664477]]\n",
      "\n",
      "\n",
      "0\n",
      "[[0.5010162]]\n",
      "\n",
      "\n",
      "1\n",
      "[[0.46918887]]\n",
      "\n",
      "\n",
      "0\n",
      "[[0.49546155]]\n",
      "\n",
      "\n",
      "1\n",
      "[[0.49465472]]\n",
      "\n",
      "\n",
      "0\n",
      "[[0.47760347]]\n",
      "\n",
      "\n",
      "1\n",
      "[[0.5247227]]\n",
      "\n",
      "\n",
      "1\n",
      "[[0.5172978]]\n",
      "\n",
      "\n",
      "1\n",
      "[[0.48348343]]\n",
      "\n",
      "\n",
      "1\n",
      "[[0.4918564]]\n",
      "\n",
      "\n",
      "1\n",
      "[[0.5026001]]\n",
      "\n",
      "\n",
      "1\n",
      "[[0.51603854]]\n",
      "\n",
      "\n",
      "0\n",
      "[[0.48939362]]\n",
      "\n",
      "\n",
      "1\n",
      "[[0.52397275]]\n",
      "\n",
      "\n",
      "0\n",
      "[[0.47980157]]\n",
      "\n",
      "\n",
      "1\n",
      "[[0.47929353]]\n",
      "\n",
      "\n",
      "0\n",
      "[[0.47204566]]\n",
      "\n",
      "\n",
      "0\n",
      "[[0.4663048]]\n",
      "\n",
      "\n",
      "0\n",
      "[[0.50722444]]\n",
      "\n",
      "\n",
      "0\n",
      "[[0.4680567]]\n",
      "\n",
      "\n",
      "0\n",
      "[[0.48002458]]\n",
      "\n",
      "\n",
      "0\n",
      "[[0.46436712]]\n",
      "\n",
      "\n",
      "1\n",
      "[[0.51079303]]\n",
      "\n",
      "\n",
      "0\n",
      "[[0.5064016]]\n",
      "\n",
      "\n",
      "1\n",
      "[[0.5195668]]\n",
      "\n",
      "\n",
      "1\n",
      "[[0.49465588]]\n",
      "\n",
      "\n",
      "0\n",
      "[[0.46398288]]\n",
      "\n",
      "\n",
      "1\n",
      "[[0.50466347]]\n",
      "\n",
      "\n",
      "0\n",
      "[[0.46722776]]\n",
      "\n",
      "\n",
      "0\n",
      "[[0.46741614]]\n",
      "\n",
      "\n",
      "0\n",
      "[[0.47329405]]\n",
      "\n",
      "\n",
      "1\n",
      "[[0.50142425]]\n",
      "\n",
      "\n",
      "0\n",
      "[[0.460871]]\n",
      "\n",
      "\n",
      "0\n",
      "[[0.4721456]]\n",
      "\n",
      "\n"
     ]
    }
   ],
   "source": [
    "i=0\n",
    "training_predictions = []\n",
    "for i in range(training_size):\n",
    "    sentence = [training_speeches[i]]\n",
    "    sequences = tokenizer.texts_to_sequences(sentence)\n",
    "    padded = pad_sequences(sequences, maxlen=max_length, padding=padding_type, truncating=trunc_type)\n",
    "    training_predictions.append(model.predict(padded))\n",
    "    print(training_ideologies[i])\n",
    "    print(model.predict(padded))\n",
    "    print(\"\\n\")"
   ]
  },
  {
   "cell_type": "code",
   "execution_count": 44,
   "metadata": {},
   "outputs": [],
   "source": [
    "#random data to csv\n",
    "rand_dataset.head()\n",
    "rand_dataset.to_csv(\"rand_dataset.csv\")"
   ]
  },
  {
   "cell_type": "code",
   "execution_count": 49,
   "metadata": {},
   "outputs": [
    {
     "name": "stdout",
     "output_type": "stream",
     "text": [
      "Saved model to disk as json\n"
     ]
    }
   ],
   "source": [
    "from tensorflow.keras.models import model_from_yaml\n",
    "#code here from https://machinelearningmastery.com/save-load-keras-deep-learning-models/\n",
    "'''\n",
    "# serialize model to YAML\n",
    "model_yaml = model.to_yaml()\n",
    "with open(\"model.yaml\", \"w\") as yaml_file:\n",
    "    yaml_file.write(model_yaml)\n",
    "# serialize weights to HDF5\n",
    "model.save_weights(\"model.h5\")\n",
    "print(\"Saved model to disk as yaml\")\n",
    "'''\n",
    "# serialize model to JSON\n",
    "model_json = model.to_json()\n",
    "with open(\"model.json\", \"w\") as json_file:\n",
    "    json_file.write(model_json)\n",
    "# serialize weights to HDF5\n",
    "model.save_weights(\"model.h5\")\n",
    "print(\"Saved model to disk as json\")"
   ]
  },
  {
   "cell_type": "code",
   "execution_count": 48,
   "metadata": {},
   "outputs": [
    {
     "data": {
      "text/plain": [
       "'\\n# later...\\n\\n# load YAML and create model\\nyaml_file = open(\\'model.yaml\\', \\'r\\')\\nloaded_model_yaml = yaml_file.read()\\nyaml_file.close()\\nloaded_model = model_from_yaml(loaded_model_yaml)\\n# load weights into new model\\nloaded_model.load_weights(\"model.h5\")\\nprint(\"Loaded model from disk\")\\n\\n'"
      ]
     },
     "execution_count": 48,
     "metadata": {},
     "output_type": "execute_result"
    }
   ],
   "source": [
    "#code here (still) from https://machinelearningmastery.com/save-load-keras-deep-learning-models/\n",
    "'''\n",
    "# later...\n",
    "\n",
    "# load YAML and create model\n",
    "yaml_file = open('model.yaml', 'r')\n",
    "loaded_model_yaml = yaml_file.read()\n",
    "yaml_file.close()\n",
    "loaded_model = model_from_yaml(loaded_model_yaml)\n",
    "# load weights into new model\n",
    "loaded_model.load_weights(\"model.h5\")\n",
    "print(\"Loaded model from disk\")\n",
    "\n",
    "\n",
    "# load json and create model\n",
    "json_file = open('model.json', 'r')\n",
    "loaded_model_json = json_file.read()\n",
    "json_file.close()\n",
    "loaded_model = model_from_json(loaded_model_json)\n",
    "# load weights into new model\n",
    "loaded_model.load_weights(\"model.h5\")\n",
    "print(\"Loaded model from disk\")\n",
    "\n",
    "'''"
   ]
  },
  {
   "cell_type": "code",
   "execution_count": null,
   "metadata": {},
   "outputs": [],
   "source": [
    "'''\n",
    "the plan:\n",
    "-toy with nn, test nn on the trump speeches you removed at the beginning DONE\n",
    "-save nn IN PROGRESS\n",
    "-pass training_predictions of nn as training_x\n",
    "-pass training_ideologies as training_y\n",
    "-toy with ml models\n",
    "'''"
   ]
  },
  {
   "cell_type": "code",
   "execution_count": null,
   "metadata": {},
   "outputs": [],
   "source": []
  }
 ],
 "metadata": {
  "kernelspec": {
   "display_name": "Python 3",
   "language": "python",
   "name": "python3"
  },
  "language_info": {
   "codemirror_mode": {
    "name": "ipython",
    "version": 3
   },
   "file_extension": ".py",
   "mimetype": "text/x-python",
   "name": "python",
   "nbconvert_exporter": "python",
   "pygments_lexer": "ipython3",
   "version": "3.8.3"
  }
 },
 "nbformat": 4,
 "nbformat_minor": 2
}
